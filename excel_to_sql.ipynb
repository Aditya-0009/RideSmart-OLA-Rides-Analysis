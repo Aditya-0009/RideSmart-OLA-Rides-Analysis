{
 "cells": [
  {
   "cell_type": "code",
   "execution_count": 1,
   "id": "e6d0bc03",
   "metadata": {},
   "outputs": [
    {
     "name": "stdout",
     "output_type": "stream",
     "text": [
      "Date                          datetime64[ns]\n",
      "Time                                  object\n",
      "Booking_ID                            object\n",
      "Booking_Status                        object\n",
      "Customer_ID                           object\n",
      "Vehicle_Type                          object\n",
      "Pickup_Location                       object\n",
      "Drop_Location                         object\n",
      "V_TAT                                float64\n",
      "C_TAT                                float64\n",
      "Canceled_Rides_by_Customer            object\n",
      "Canceled_Rides_by_Driver              object\n",
      "Incomplete_Rides                      object\n",
      "Incomplete_Rides_Reason               object\n",
      "Booking_Value                          int64\n",
      "Payment_Method                        object\n",
      "Ride_Distance                          int64\n",
      "Driver_Ratings                       float64\n",
      "Customer_Rating                      float64\n",
      "Vehicle Images                       float64\n",
      "dtype: object\n"
     ]
    }
   ],
   "source": [
    "import pandas as pd\n",
    "\n",
    "# Load Excel\n",
    "df = pd.read_excel(\"C:\\Programming\\Data Analytics\\Data Analytics Projects\\RideSmart - Ola Rides Analysis\\Ola 100k Dataset.xlsx\")\n",
    "\n",
    "# Check inferred types\n",
    "print(df.dtypes)\n"
   ]
  },
  {
   "cell_type": "code",
   "execution_count": 2,
   "id": "7bf5d186",
   "metadata": {},
   "outputs": [],
   "source": [
    "df['Vehicle Images'] = df['Vehicle Images'].astype(str)"
   ]
  },
  {
   "cell_type": "code",
   "execution_count": 3,
   "id": "a691d222",
   "metadata": {},
   "outputs": [],
   "source": [
    "import mysql.connector"
   ]
  },
  {
   "cell_type": "code",
   "execution_count": null,
   "id": "a9385003",
   "metadata": {},
   "outputs": [],
   "source": [
    "conn = mysql.connector.connect(\n",
    "    host=\"localhost\",\n",
    "    user=\"\",\n",
    "    password=\"\",\n",
    "    database=\"\"   \n",
    ")\n",
    "cursor = conn.cursor()"
   ]
  },
  {
   "cell_type": "code",
   "execution_count": 5,
   "id": "2c1061c3",
   "metadata": {},
   "outputs": [],
   "source": [
    "create_table_query = \"\"\"\n",
    "CREATE TABLE IF NOT EXISTS ola_data (\n",
    "    Date DATETIME,\n",
    "    Time TIME,\n",
    "    Booking_ID VARCHAR(20),\n",
    "    Booking_Status VARCHAR(50),\n",
    "    Customer_ID VARCHAR(20),\n",
    "    Vehicle_Type VARCHAR(50),\n",
    "    Pickup_Location VARCHAR(100),\n",
    "    Drop_Location VARCHAR(100),\n",
    "    V_TAT INT,\n",
    "    C_TAT INT,\n",
    "    Canceled_Rides_by_Customer VARCHAR(100),\n",
    "    Canceled_Rides_by_Driver VARCHAR(100),\n",
    "    Incomplete_Rides VARCHAR(10),\n",
    "    Incomplete_Rides_Reason VARCHAR(100),\n",
    "    Booking_Value INT,\n",
    "    Payment_Method VARCHAR(50),\n",
    "    Ride_Distance INT,\n",
    "    Driver_Ratings DECIMAL(3,2),\n",
    "    Customer_Rating DECIMAL(3,2),\n",
    "    Vehicle_Images VARCHAR(255)\n",
    ");\n",
    "\"\"\"\n",
    "cursor.execute(create_table_query)"
   ]
  },
  {
   "cell_type": "code",
   "execution_count": 9,
   "id": "1f0d3492",
   "metadata": {},
   "outputs": [],
   "source": [
    "# Ensure all NaNs/NaTs become Python None\n",
    "df = df.where(pd.notnull(df), None)\n",
    "\n",
    "# Convert all columns to Python objects (safe for MySQL)\n",
    "df = df.astype(object)\n",
    "\n",
    "# Convert DataFrame to list of tuples\n",
    "data_tuples = [tuple(row) for row in df.to_numpy()]\n",
    "\n",
    "# Use parameterized query for safety\n",
    "insert_query = \"\"\"\n",
    "INSERT INTO ola_data VALUES (%s, %s, %s, %s, %s, %s, %s, %s, %s, %s,\n",
    "                             %s, %s, %s, %s, %s, %s, %s, %s, %s, %s)\n",
    "\"\"\"\n",
    "\n",
    "# Insert rows safely\n",
    "for row in data_tuples:\n",
    "    cursor.execute(insert_query, row)\n",
    "\n",
    "conn.commit()\n"
   ]
  },
  {
   "cell_type": "code",
   "execution_count": null,
   "id": "3bfb2317",
   "metadata": {},
   "outputs": [],
   "source": []
  }
 ],
 "metadata": {
  "kernelspec": {
   "display_name": "Python 3",
   "language": "python",
   "name": "python3"
  },
  "language_info": {
   "codemirror_mode": {
    "name": "ipython",
    "version": 3
   },
   "file_extension": ".py",
   "mimetype": "text/x-python",
   "name": "python",
   "nbconvert_exporter": "python",
   "pygments_lexer": "ipython3",
   "version": "3.10.11"
  }
 },
 "nbformat": 4,
 "nbformat_minor": 5
}
